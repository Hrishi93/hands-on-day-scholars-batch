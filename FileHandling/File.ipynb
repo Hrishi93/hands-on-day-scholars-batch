{
 "cells": [
  {
   "cell_type": "code",
   "execution_count": null,
   "id": "b89caf8a",
   "metadata": {},
   "outputs": [
    {
     "name": "stdout",
     "output_type": "stream",
     "text": [
      "<_io.TextIOWrapper name='sample.txt' mode='r' encoding='cp1252'>\n",
      "---------------------------\n",
      "This is the sample FIle\n",
      "Adding some random data\n",
      "for understading Purpose\n",
      "Just a example FIle\n",
      "Add any Text for file\n"
     ]
    }
   ],
   "source": [
    "#Open a File\n",
    "records = open(\"sample.txt\")  #open a file\n",
    "print(records)\n",
    "\n",
    "#Read a File\n",
    "print(\"---------------------------\")\n",
    "print(records.read())  # Read all file\n",
    "records.close() # close the file"
   ]
  },
  {
   "cell_type": "code",
   "execution_count": 12,
   "id": "eff139f5",
   "metadata": {},
   "outputs": [
    {
     "name": "stdout",
     "output_type": "stream",
     "text": [
      "<_io.TextIOWrapper name='data/notes.txt' mode='r' encoding='cp1252'>\n",
      "Hello in a sampole notes\n",
      "aslkjkhfijl \n",
      "sdgljdsa\n",
      "sdlkdjgbkjlsgkjl\n",
      "lkdshkj\n"
     ]
    }
   ],
   "source": [
    "#Open a File\n",
    "notes_record = open(\"data/notes.txt\")\n",
    "print(notes_record)\n",
    "\n",
    "#read\n",
    "print(notes_record.read())\n",
    "notes_record.close()"
   ]
  },
  {
   "cell_type": "code",
   "execution_count": 22,
   "id": "2f9d257e",
   "metadata": {},
   "outputs": [
    {
     "name": "stdout",
     "output_type": "stream",
     "text": [
      "This \n",
      "is the sample FIle\n",
      "\n",
      "Adding some random data\n",
      "\n"
     ]
    }
   ],
   "source": [
    "#Read a file Line by Line\n",
    "records = open(\"sample.txt\")\n",
    "print(records.readline(5)) # read the 5 charecter  first line\n",
    "print(records.readline()) #read a all second line\n",
    "print(records.readline())\n",
    "records.close()\n",
    "#print(records.readline())"
   ]
  },
  {
   "cell_type": "code",
   "execution_count": 26,
   "id": "dfd45007",
   "metadata": {},
   "outputs": [
    {
     "name": "stdout",
     "output_type": "stream",
     "text": [
      "This is the sample FIle\n",
      "Ad\n"
     ]
    }
   ],
   "source": [
    "records = open(\"sample.txt\")\n",
    "print(records.read(26)) #read 26 charecter\n",
    "records.close()"
   ]
  },
  {
   "cell_type": "code",
   "execution_count": 33,
   "id": "b3fef346",
   "metadata": {},
   "outputs": [
    {
     "name": "stdout",
     "output_type": "stream",
     "text": [
      "Added content of File\n"
     ]
    }
   ],
   "source": [
    "records = open(\"sample.txt\", \"w\")\n",
    "text = \"Added content of File\"\n",
    "records.write(text)\n",
    "records.close()\n",
    "\n",
    "records = open(\"sample.txt\", \"r\")\n",
    "print(records.read())"
   ]
  },
  {
   "cell_type": "code",
   "execution_count": 41,
   "id": "4f6a30e2",
   "metadata": {},
   "outputs": [
    {
     "name": "stdout",
     "output_type": "stream",
     "text": [
      "Added content of FileAppend the data in fileAppend the data in file\n",
      " Append the data in file\n",
      " Append the data in file\n",
      "Append the data in file\n",
      "Append the data in file\n"
     ]
    }
   ],
   "source": [
    "records = open(\"sample.txt\", \"a\")\n",
    "records.write(\"\\nAppend the data in file\")\n",
    "records.close()\n",
    "\n",
    "records = open(\"sample.txt\", \"r\")\n",
    "print(records.read())\n",
    "records.close()"
   ]
  },
  {
   "cell_type": "code",
   "execution_count": 44,
   "id": "8b51020f",
   "metadata": {},
   "outputs": [],
   "source": [
    "records.close()"
   ]
  },
  {
   "cell_type": "code",
   "execution_count": 45,
   "id": "b0e20f72",
   "metadata": {},
   "outputs": [],
   "source": [
    "import os\n",
    "#records = open(\"sample.txt\")\n",
    "os.remove(\"sample.txt\")\n",
    "#records.delete()"
   ]
  },
  {
   "cell_type": "code",
   "execution_count": null,
   "id": "e1b8a563",
   "metadata": {},
   "outputs": [],
   "source": [
    "re = open(\"sample.txt\")\n",
    "re2 = open(\"sample.txt\")\n",
    "re.close()\n",
    "re2.close()\n",
    "\n",
    "num = True ,\n",
    "\n",
    "#addition of two numbers\n"
   ]
  }
 ],
 "metadata": {
  "kernelspec": {
   "display_name": "Python 3",
   "language": "python",
   "name": "python3"
  },
  "language_info": {
   "codemirror_mode": {
    "name": "ipython",
    "version": 3
   },
   "file_extension": ".py",
   "mimetype": "text/x-python",
   "name": "python",
   "nbconvert_exporter": "python",
   "pygments_lexer": "ipython3",
   "version": "3.11.8"
  }
 },
 "nbformat": 4,
 "nbformat_minor": 5
}
