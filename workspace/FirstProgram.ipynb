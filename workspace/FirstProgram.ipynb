{
 "cells": [
  {
   "cell_type": "markdown",
   "id": "cfed0c43",
   "metadata": {},
   "source": [
    "#The First Program at ISTSW"
   ]
  },
  {
   "cell_type": "code",
   "execution_count": 1,
   "id": "54b87fc1-1e2b-4abe-8469-4360b90eaff8",
   "metadata": {},
   "outputs": [
    {
     "name": "stdout",
     "output_type": "stream",
     "text": [
      "Hello in AICW at ISTSW\n"
     ]
    }
   ],
   "source": [
    "print(\"Hello in AICW at ISTSW\") "
   ]
  },
  {
   "cell_type": "code",
   "execution_count": 2,
   "id": "0ddcd5ec-957a-4981-bf00-596c4a1f9871",
   "metadata": {},
   "outputs": [
    {
     "data": {
      "text/plain": [
       "30"
      ]
     },
     "execution_count": 2,
     "metadata": {},
     "output_type": "execute_result"
    }
   ],
   "source": [
    "10+20"
   ]
  }
 ],
 "metadata": {
  "kernelspec": {
   "display_name": "base",
   "language": "python",
   "name": "python3"
  },
  "language_info": {
   "codemirror_mode": {
    "name": "ipython",
    "version": 3
   },
   "file_extension": ".py",
   "mimetype": "text/x-python",
   "name": "python",
   "nbconvert_exporter": "python",
   "pygments_lexer": "ipython3",
   "version": "3.13.5"
  }
 },
 "nbformat": 4,
 "nbformat_minor": 5
}
