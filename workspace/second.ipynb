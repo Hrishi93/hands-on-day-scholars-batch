{
 "cells": [
  {
   "cell_type": "code",
   "execution_count": 1,
   "id": "067cccc8",
   "metadata": {},
   "outputs": [
    {
     "name": "stdout",
     "output_type": "stream",
     "text": [
      "hello world\n"
     ]
    }
   ],
   "source": [
    "print(\"hello world\")"
   ]
  },
  {
   "cell_type": "code",
   "execution_count": 6,
   "id": "66aad906",
   "metadata": {},
   "outputs": [
    {
     "name": "stdout",
     "output_type": "stream",
     "text": [
      "RAM\n",
      "<class 'str'>\n",
      "3\n",
      "R\n",
      "A\n",
      "M\n",
      "M\n",
      "ram\n"
     ]
    }
   ],
   "source": [
    "#String\n",
    "name = \"RAM\"\n",
    "print(name)\n",
    "print(type(name))\n",
    "print(len(name))\n",
    "print(name[0])\n",
    "print(name[1])\n",
    "print(name[2])\n",
    "print(name[-1])\n",
    "print(name.lower())"
   ]
  },
  {
   "cell_type": "code",
   "execution_count": null,
   "id": "0f609c6c",
   "metadata": {},
   "outputs": [],
   "source": [
    "#concat to string\n",
    "string1 = \"ram\"\n",
    "string2 = \"shyam\""
   ]
  }
 ],
 "metadata": {
  "kernelspec": {
   "display_name": "Python 3",
   "language": "python",
   "name": "python3"
  },
  "language_info": {
   "codemirror_mode": {
    "name": "ipython",
    "version": 3
   },
   "file_extension": ".py",
   "mimetype": "text/x-python",
   "name": "python",
   "nbconvert_exporter": "python",
   "pygments_lexer": "ipython3",
   "version": "3.11.8"
  }
 },
 "nbformat": 4,
 "nbformat_minor": 5
}
