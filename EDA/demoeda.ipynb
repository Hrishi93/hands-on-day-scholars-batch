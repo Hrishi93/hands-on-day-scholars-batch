{
 "cells": [
  {
   "cell_type": "code",
   "execution_count": 1,
   "id": "b0ba6333",
   "metadata": {},
   "outputs": [
    {
     "name": "stdout",
     "output_type": "stream",
     "text": [
      "[10, 'Hello', 78.0, True]\n"
     ]
    }
   ],
   "source": [
    "#collections\n",
    "#list , tuple , set , string\n",
    "#collection of semilar data type #array\n",
    "\n",
    "numbers = [10, \"Hello\" , 78.0 , True]\n",
    "print(numbers)"
   ]
  },
  {
   "cell_type": "code",
   "execution_count": null,
   "id": "4c3f1786",
   "metadata": {},
   "outputs": [],
   "source": [
    "!pip install numpy"
   ]
  },
  {
   "cell_type": "code",
   "execution_count": 14,
   "id": "454a6577",
   "metadata": {},
   "outputs": [
    {
     "name": "stdout",
     "output_type": "stream",
     "text": [
      "<class 'numpy.ndarray'>\n",
      "<class 'numpy.str_'>\n",
      "['10' 'True' 'False' '30' '10']\n"
     ]
    }
   ],
   "source": [
    "#NumPY #TPP\n",
    "import numpy\n",
    "\n",
    "numbers = numpy.array([10, True, False, 30 , \"10\"])\n",
    "\n",
    "print(type(numbers))\n",
    "print(type(numbers[1]))\n",
    "print(numbers)\n"
   ]
  },
  {
   "cell_type": "code",
   "execution_count": 22,
   "id": "07db1897",
   "metadata": {},
   "outputs": [
    {
     "name": "stdout",
     "output_type": "stream",
     "text": [
      "[10 20 30 40]\n",
      "[11 22 33 44]\n",
      "[10 20 30 40 50 60 70]\n",
      "[11 22 33 44 55 66 77]\n",
      "[10 20 30 40 50 60 70 11 22 33 44 55 66 77]\n"
     ]
    }
   ],
   "source": [
    "import numpy as np\n",
    "numbers1 = np.array([10, 20, 30 , 40])\n",
    "numbers2 = np.array([11, 22 , 33 , 44])\n",
    "print(numbers1)\n",
    "print(numbers2)\n",
    "\n",
    "#add elemenets in array\n",
    "numbers1 = np.append(numbers1 , [50 , 60 , 70])\n",
    "numbers2 = np.append(numbers2 , [55 , 66, 77])\n",
    "\n",
    "print(numbers1)\n",
    "print(numbers2)\n",
    "\n",
    "numbers3 = np.append(numbers1 , numbers2)\n",
    "print(numbers3)"
   ]
  },
  {
   "cell_type": "code",
   "execution_count": 23,
   "id": "b987ef75",
   "metadata": {},
   "outputs": [
    {
     "name": "stdout",
     "output_type": "stream",
     "text": [
      "10\n",
      "20\n",
      "30\n",
      "40\n",
      "50\n",
      "60\n",
      "70\n"
     ]
    }
   ],
   "source": [
    "for i in range(len(numbers1)):\n",
    "    print(numbers1[i])"
   ]
  },
  {
   "cell_type": "code",
   "execution_count": 30,
   "id": "56ac24a6",
   "metadata": {},
   "outputs": [
    {
     "name": "stdout",
     "output_type": "stream",
     "text": [
      "[[ 1  2  3  4  5]\n",
      " [10 20 30 40 50]]\n",
      "1\n",
      "20\n"
     ]
    }
   ],
   "source": [
    "#2 Data Array\n",
    "axis = np.array([[1,2,3,4,5], [10, 20 , 30 , 40 ,50]])\n",
    "print(axis)\n",
    "print(axis[0][0])\n",
    "print(axis[1][1])"
   ]
  },
  {
   "cell_type": "code",
   "execution_count": 39,
   "id": "f7143c23",
   "metadata": {},
   "outputs": [
    {
     "name": "stdout",
     "output_type": "stream",
     "text": [
      "[[[ 1  2  3  4  5]\n",
      "  [10 20 30 40 50]\n",
      "  [11 22 33 44 55]]]\n",
      "20\n"
     ]
    }
   ],
   "source": [
    "#3 Data Array\n",
    "axis = np.array([[[1,2,3,4,5], [10, 20 , 30 , 40 ,50] , [11 , 22 , 33 , 44, 55]]])\n",
    "\n",
    "print(axis)\n",
    "print(axis[0][1][1])\n"
   ]
  }
 ],
 "metadata": {
  "kernelspec": {
   "display_name": "Python 3",
   "language": "python",
   "name": "python3"
  },
  "language_info": {
   "codemirror_mode": {
    "name": "ipython",
    "version": 3
   },
   "file_extension": ".py",
   "mimetype": "text/x-python",
   "name": "python",
   "nbconvert_exporter": "python",
   "pygments_lexer": "ipython3",
   "version": "3.11.8"
  }
 },
 "nbformat": 4,
 "nbformat_minor": 5
}
