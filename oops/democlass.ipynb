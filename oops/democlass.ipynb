{
 "cells": [
  {
   "cell_type": "code",
   "execution_count": null,
   "id": "c6cf8b0d",
   "metadata": {},
   "outputs": [
    {
     "name": "stdout",
     "output_type": "stream",
     "text": [
      "30\n"
     ]
    }
   ],
   "source": [
    "num1 = 10 #gloabal Variable\n",
    "num2 = 20\n",
    "\n",
    "def addition():\n",
    "    sum = num1 + num2\n",
    "    print(sum)\n",
    "\n",
    "addition()"
   ]
  },
  {
   "cell_type": "code",
   "execution_count": 4,
   "id": "f0ac9956",
   "metadata": {},
   "outputs": [
    {
     "name": "stdout",
     "output_type": "stream",
     "text": [
      "Hello \n"
     ]
    }
   ],
   "source": [
    "def addition():\n",
    "    print(\"Hello \")\n",
    "\n",
    "addition()"
   ]
  },
  {
   "cell_type": "code",
   "execution_count": null,
   "id": "df59ee83",
   "metadata": {},
   "outputs": [
    {
     "name": "stdout",
     "output_type": "stream",
     "text": [
      "Hello \n",
      "Sum : 50\n"
     ]
    }
   ],
   "source": [
    "class Arithematic:\n",
    "    num1 = 20 #local in class #own var \n",
    "    num2 = 30\n",
    "\n",
    "    def addition(self):\n",
    "        sum = self.num1+self.num2  #self.var_name\n",
    "        #sum = num1+num2  #global\n",
    "        print(\"Sum :\" , sum)\n",
    "\n",
    "    #oveloading\n",
    "    #def addition(self):\n",
    "        #print(\"Hello\")\n",
    "\n",
    "addition()\n",
    "#instance of class = Object\n",
    "\n",
    "a1 = Arithematic()  #a1 = object of Arithematic class\n",
    "a1.addition()"
   ]
  },
  {
   "cell_type": "code",
   "execution_count": 14,
   "id": "e734784e",
   "metadata": {},
   "outputs": [
    {
     "name": "stdout",
     "output_type": "stream",
     "text": [
      "20\n",
      "30\n",
      "Sum : 50\n"
     ]
    }
   ],
   "source": [
    "a2 = Arithematic()\n",
    "print(a2.num1)\n",
    "print(a2.num2)\n",
    "a2.addition()"
   ]
  },
  {
   "cell_type": "code",
   "execution_count": 22,
   "id": "6b46a22d",
   "metadata": {},
   "outputs": [
    {
     "name": "stdout",
     "output_type": "stream",
     "text": [
      "Hello :  Hrishikesh Mahure\n"
     ]
    }
   ],
   "source": [
    "last_name = \"Shyam\"\n",
    "class Person:\n",
    "    last_name = \"Kumar\"\n",
    "    def info(self , name , last_name):\n",
    "        print(\"Hello : \", name , last_name)\n",
    "\n",
    "p1 = Person() #default constructor - no parameter\n",
    "p1.info(\"Hrishikesh\" , \"Mahure\")\n",
    "\n",
    "\n",
    "#method will give refrence first to local variable of method\n",
    "#then for global if local not available\n",
    "#local of class if we give self.var_name"
   ]
  },
  {
   "cell_type": "code",
   "execution_count": 40,
   "id": "77fc8147",
   "metadata": {},
   "outputs": [
    {
     "name": "stdout",
     "output_type": "stream",
     "text": [
      "Type id  DOG  and Breed is  Labra age is  6\n",
      "Type id  CAT  and Breed is  BlackCat age is  3\n"
     ]
    }
   ],
   "source": [
    "#if constructer with para - __init__()\n",
    "\n",
    "class Animal:\n",
    "    def __init__(self , type, age):\n",
    "        self.type = type\n",
    "        self.age = age\n",
    "        #print(\"Breed : \", self.breed , \" age : \", self.age)\n",
    "\n",
    "    def __str__(self):\n",
    "      #return f\"{self.breed} and age is {self.age}\"   \n",
    "      return f\"{self.type} , {self.age}\"\n",
    "    \n",
    "    def dog(self , breed):\n",
    "       print(\"Type id \", self.type , \" and Breed is \", breed , \"age is \", self.age)\n",
    "\n",
    "    def cat(self , breed):\n",
    "       print(\"Type id \", self.type , \" and Breed is \", breed , \"age is \", self.age)\n",
    "          \n",
    "    \n",
    "animal1 = Animal(\"DOG\" , 6)\n",
    "#print(animal1)\n",
    "animal1.dog(\"Labra\")\n",
    "\n",
    "#pass the cat\n",
    "animal2 = Animal(\"CAT\" , 3)\n",
    "animal2.cat(\"BlackCat\")\n",
    "\n",
    "#Type is DOG , and breed is Labra and age is 6\n",
    "        "
   ]
  },
  {
   "cell_type": "code",
   "execution_count": null,
   "id": "a57dbfad",
   "metadata": {},
   "outputs": [
    {
     "name": "stdout",
     "output_type": "stream",
     "text": [
      "BARKING\n",
      "Mounnnnnn\n"
     ]
    }
   ],
   "source": [
    "class Animal:\n",
    "    def __init__(self):\n",
    "        pass;\n",
    "\n",
    "    def speak(self):\n",
    "        pass;\n",
    "\n",
    "\n",
    "class Dog(Animal):\n",
    "    def __init__(self , breed):\n",
    "        self.breed = breed\n",
    "\n",
    "    #overiding\n",
    "    def speak(self):\n",
    "        #return super().speak() \n",
    "        print(\"BARKING\")\n",
    "\n",
    "#create sub class CAT \n",
    "#MOUNNNN MOUNNNN \n",
    "class Cat(Animal):\n",
    "    def __init__(self , breed):\n",
    "        self.breed = breed\n",
    "\n",
    "    def speak(self):\n",
    "        print(\"Mounnnnnn\")\n",
    "\n",
    "a1 = Animal()\n",
    "a1.speak(); #pass the method empty\n",
    "\n",
    "#object of child DOG \n",
    "d1 = Dog(\"Labra\")\n",
    "d1.speak()\n",
    "\n",
    "#Object of Child Cat\n",
    "c1=Cat(\"BlackCat\")\n",
    "c1.speak()"
   ]
  },
  {
   "cell_type": "code",
   "execution_count": 51,
   "id": "34425c49",
   "metadata": {},
   "outputs": [
    {
     "name": "stdout",
     "output_type": "stream",
     "text": [
      "Hrishikesh\n",
      "32\n",
      "Nagpur\n"
     ]
    }
   ],
   "source": [
    "name = \"Hrishikesh\"  # variable to store data value / set\n",
    "age = 32\n",
    "city = \"Nagpur\"\n",
    "\n",
    "print(name)\n",
    "print(age)\n",
    "print(city)    # direct variable to ouput / get\n",
    "# security for variable\n",
    "# directly giving var / data to client\n",
    "# to avoid thise one #ecncapsulation"
   ]
  },
  {
   "cell_type": "code",
   "execution_count": 68,
   "id": "88310fb2",
   "metadata": {},
   "outputs": [
    {
     "name": "stdout",
     "output_type": "stream",
     "text": [
      "Rajinakath\n",
      "80\n",
      "Chennai\n",
      "720000\n",
      "-----after setting -------------------\n",
      "Mohanlal\n",
      "60\n",
      "Kochi\n",
      "600000\n"
     ]
    }
   ],
   "source": [
    "#WAP to take info and display employee info using encapsulation feature\n",
    "#name , age , city , salary \n",
    "\n",
    "class Employee:\n",
    "    def __init__(self, name , age , city , salary):\n",
    "        self.__name = name #private variable\n",
    "        self.__age = age\n",
    "        self.__city = city\n",
    "        self.__salary = salary\n",
    "\n",
    "    #getter - for return a values\n",
    "    def get_name(self):        #encapsulating variable in method #get()\n",
    "            return self.__name\n",
    "\n",
    "    def get_age(self):\n",
    "            return self.__age\n",
    "\n",
    "    def get_city(self):\n",
    "            return self.__city\n",
    "    \n",
    "    def get_salary(self):\n",
    "            return self.__salary\n",
    "    \n",
    "    #setter - for inserting a values\n",
    "    def set_name(self , name):   # encapsulating var in method # set() \n",
    "         self.__name = name\n",
    "    \n",
    "    def set_age(self , age):\n",
    "          self.__age = age\n",
    "    \n",
    "    def set_city(self , city):\n",
    "          self.__city = city\n",
    "\n",
    "    def set_salary(self , salary):\n",
    "          self.__salary = salary\n",
    "\n",
    "emp = Employee(\"Rajinakath\" , 80 , \"Chennai\" , 720000)\n",
    "#print(emp.name) #Direct giving variable\n",
    "#print(emp.age)  \n",
    "print(emp.get_name())  # we are taking the value of variable with help of method \n",
    "print(emp.get_age())\n",
    "print(emp.get_city())\n",
    "print(emp.get_salary())\n",
    "print(\"-----after setting -------------------\")\n",
    "emp.set_name(\"Mohanlal\") #setting the value\n",
    "emp.set_age(60)\n",
    "emp.set_city(\"Kochi\")\n",
    "emp.set_salary(600000) \n",
    "print(emp.get_name())\n",
    "print(emp.get_age())\n",
    "print(emp.get_city())\n",
    "print(emp.get_salary())\n"
   ]
  }
 ],
 "metadata": {
  "kernelspec": {
   "display_name": "Python 3",
   "language": "python",
   "name": "python3"
  },
  "language_info": {
   "codemirror_mode": {
    "name": "ipython",
    "version": 3
   },
   "file_extension": ".py",
   "mimetype": "text/x-python",
   "name": "python",
   "nbconvert_exporter": "python",
   "pygments_lexer": "ipython3",
   "version": "3.11.8"
  }
 },
 "nbformat": 4,
 "nbformat_minor": 5
}
