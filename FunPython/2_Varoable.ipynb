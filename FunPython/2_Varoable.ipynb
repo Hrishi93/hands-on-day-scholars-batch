{
 "cells": [
  {
   "cell_type": "code",
   "execution_count": null,
   "id": "c7101cdf",
   "metadata": {},
   "outputs": [],
   "source": [
    "#variable is a container that stores data values\n",
    "num1= 10\n",
    "\n",
    "#Rules for naming variables\n",
    "#start with alphate or underscore\n",
    "_name= \"John\"\n",
    "name = \"Doe\"\n",
    "#3name = \"Invalid\"  # Invalid variable name\n",
    "\n",
    "#first name = \"Jane\"  # Invalid variable name due to space\n",
    "first_name = \"Jane\"  # Valid variable name using underscore"
   ]
  },
  {
   "cell_type": "code",
   "execution_count": 1,
   "id": "fb22620f",
   "metadata": {},
   "outputs": [
    {
     "name": "stdout",
     "output_type": "stream",
     "text": [
      "20\n",
      "30\n"
     ]
    }
   ],
   "source": [
    "num1 = 20  # Reassigning variable\n",
    "num2 = 30\n",
    "print(num1)\n",
    "print(num2)"
   ]
  },
  {
   "cell_type": "code",
   "execution_count": 2,
   "id": "b737c20c",
   "metadata": {},
   "outputs": [
    {
     "name": "stdout",
     "output_type": "stream",
     "text": [
      "10\n",
      "20\n",
      "30\n"
     ]
    }
   ],
   "source": [
    "num1, num2, num3 = 10, 20, 30\n",
    "print(num1)\n",
    "print(num2)\n",
    "print(num3)"
   ]
  },
  {
   "cell_type": "code",
   "execution_count": null,
   "id": "f682dd4b",
   "metadata": {},
   "outputs": [],
   "source": [
    "srno , name , age , salary = 1 , \"Alice\" , 25 , 50000.50\n",
    "print(srno)\n",
    "print(name)\n",
    "print(age)\n",
    "print(salary)"
   ]
  },
  {
   "cell_type": "code",
   "execution_count": 4,
   "id": "b2a8aae0",
   "metadata": {},
   "outputs": [],
   "source": [
    "count = True\n",
    "countS = \"True\"\n",
    "dta = False"
   ]
  },
  {
   "cell_type": "code",
   "execution_count": 7,
   "id": "104f4f0c",
   "metadata": {},
   "outputs": [
    {
     "name": "stdout",
     "output_type": "stream",
     "text": [
      "250000\n"
     ]
    }
   ],
   "source": [
    "#activity one\n",
    "first_quarter_profit = 50000\n",
    "second_quarter_profit = 75000\n",
    "third_quarter_profit = 60000   \n",
    "fourth_quarter_profit = 65000\n",
    "\n",
    "tolal_annual_profit = (first_quarter_profit + second_quarter_profit + third_quarter_profit + fourth_quarter_profit)\n",
    "print(tolal_annual_profit)\n"
   ]
  },
  {
   "cell_type": "code",
   "execution_count": null,
   "id": "bee9ceb9",
   "metadata": {},
   "outputs": [
    {
     "name": "stdout",
     "output_type": "stream",
     "text": [
      "Invalid password\n"
     ]
    }
   ],
   "source": [
    "password = \"Secure123\"\n",
    "\n",
    "if len(password) >= 8:\n",
    "    print(\"Invalid password\")"
   ]
  },
  {
   "cell_type": "code",
   "execution_count": 13,
   "id": "c4899a1c",
   "metadata": {},
   "outputs": [
    {
     "name": "stdout",
     "output_type": "stream",
     "text": [
      "Alice scored  85  in Math and  90  in Science\n"
     ]
    }
   ],
   "source": [
    "name = \"Alice\"\n",
    "math_score = 85\n",
    "science_score = 90\n",
    "\n",
    "print(name, \"scored \" , math_score , \" in Math and \" , science_score , \" in Science\")"
   ]
  },
  {
   "cell_type": "code",
   "execution_count": 14,
   "id": "8c582952",
   "metadata": {},
   "outputs": [
    {
     "name": "stdout",
     "output_type": "stream",
     "text": [
      "Balance after purchase:  140\n"
     ]
    }
   ],
   "source": [
    "notebook_price = 45\n",
    "items_bought = 8\n",
    "total_purchese_amount = notebook_price * items_bought\n",
    "creadit = 500\n",
    "balance = creadit - total_purchese_amount\n",
    "print(\"Balance after purchase: \", balance)"
   ]
  },
  {
   "cell_type": "code",
   "execution_count": 17,
   "id": "66721d14",
   "metadata": {},
   "outputs": [
    {
     "name": "stdout",
     "output_type": "stream",
     "text": [
      "10 Type of  <class 'int'>\n",
      "15.5 Type of  <class 'float'>\n",
      "Hello Type of  <class 'str'>\n",
      "True Type of  <class 'bool'>\n"
     ]
    }
   ],
   "source": [
    "#Data Types\n",
    "var1 = 10            # Integer\n",
    "var2 = 15.5         # Float\n",
    "var3 = \"Hello\"      # String\n",
    "var4 = True         # Boolean\n",
    "print(var1, \"Type of \" , type(var1))\n",
    "print(var2, \"Type of \" ,type(var2))\n",
    "print(var3, \"Type of \" ,type(var3))\n",
    "print(var4, \"Type of \" ,type(var4))"
   ]
  },
  {
   "cell_type": "code",
   "execution_count": 23,
   "id": "b48e1b29",
   "metadata": {},
   "outputs": [
    {
     "name": "stdout",
     "output_type": "stream",
     "text": [
      "20\n",
      "10\n",
      "10\n"
     ]
    }
   ],
   "source": [
    "num1 = 10  \n",
    "#num1 = 30\n",
    "\n",
    "def display_number():\n",
    "    num1 = 20  # Local variable\n",
    "    print(num1)\n",
    "\n",
    "def display():\n",
    "    print(num1)  # Accessing global variable\n",
    "\n",
    "display_number()  # Outputs: 20\n",
    "print(num1)  # Outputs: 10\n",
    "display()  # Outputs: 10"
   ]
  }
 ],
 "metadata": {
  "kernelspec": {
   "display_name": "Python 3",
   "language": "python",
   "name": "python3"
  },
  "language_info": {
   "codemirror_mode": {
    "name": "ipython",
    "version": 3
   },
   "file_extension": ".py",
   "mimetype": "text/x-python",
   "name": "python",
   "nbconvert_exporter": "python",
   "pygments_lexer": "ipython3",
   "version": "3.11.8"
  }
 },
 "nbformat": 4,
 "nbformat_minor": 5
}
