{
 "cells": [
  {
   "cell_type": "code",
   "execution_count": 4,
   "id": "8d7c5821",
   "metadata": {},
   "outputs": [
    {
     "name": "stdout",
     "output_type": "stream",
     "text": [
      "Pass\n"
     ]
    }
   ],
   "source": [
    "marks = 60\n",
    "\n",
    "#greater than 60 = pass\n",
    "# less failed\n",
    "\n",
    "if marks >= 60:\n",
    "    print(\"Pass\")\n",
    "else:\n",
    "    print(\"Failed\")    "
   ]
  },
  {
   "cell_type": "code",
   "execution_count": 12,
   "id": "e6b51cda",
   "metadata": {},
   "outputs": [
    {
     "name": "stdout",
     "output_type": "stream",
     "text": [
      "Gread B\n"
     ]
    }
   ],
   "source": [
    "#marks = 80 \n",
    "#if markas is less than 40 : Failed\n",
    "# 40 and 70 : great B\n",
    "#more 70 : Great A\n",
    "\n",
    "marks = 69\n",
    "if marks >= 70:\n",
    "    print(\"Gread A\")\n",
    "elif marks >= 40 and marks < 70:\n",
    "    print(\"Gread B\")\n",
    "else:\n",
    "    print(\"Failed\")    "
   ]
  },
  {
   "cell_type": "code",
   "execution_count": 3,
   "id": "adfa08b4",
   "metadata": {},
   "outputs": [
    {
     "name": "stdout",
     "output_type": "stream",
     "text": [
      "0\n",
      "1\n",
      "2\n",
      "3\n",
      "4\n"
     ]
    }
   ],
   "source": [
    "#display number upto 5\n",
    "\n",
    "for i in range(5):\n",
    "    print(i)"
   ]
  },
  {
   "cell_type": "code",
   "execution_count": 4,
   "id": "06737ccc",
   "metadata": {},
   "outputs": [
    {
     "name": "stdout",
     "output_type": "stream",
     "text": [
      "5\n",
      "6\n",
      "7\n",
      "8\n",
      "9\n",
      "10\n"
     ]
    }
   ],
   "source": [
    "#diplay 5 to 10\n",
    "for i in range(5, 11):\n",
    "    print(i)"
   ]
  },
  {
   "cell_type": "code",
   "execution_count": 9,
   "id": "170c29c0",
   "metadata": {},
   "outputs": [
    {
     "name": "stdout",
     "output_type": "stream",
     "text": [
      "5\n",
      "10\n",
      "15\n"
     ]
    }
   ],
   "source": [
    "# 5 , 7 ,9 , 11 , 13 , 15\n",
    "for n in range(5,16,5):\n",
    "    print(n)"
   ]
  },
  {
   "cell_type": "code",
   "execution_count": 14,
   "id": "43f7584c",
   "metadata": {},
   "outputs": [
    {
     "name": "stdout",
     "output_type": "stream",
     "text": [
      "10\n",
      "20\n",
      "30\n"
     ]
    }
   ],
   "source": [
    "numbers = [10, 20 , 30 , 40 ,50]\n",
    "for n in range(len(numbers)):\n",
    "    print(numbers[n])\n",
    "    if numbers[n] ==30:\n",
    "        break\n",
    "    "
   ]
  },
  {
   "cell_type": "code",
   "execution_count": 15,
   "id": "ea7d62b1",
   "metadata": {},
   "outputs": [
    {
     "name": "stdout",
     "output_type": "stream",
     "text": [
      "2\n",
      "5\n",
      "8\n",
      "11\n",
      "14\n",
      "17\n",
      "20\n",
      "23\n",
      "26\n",
      "29\n"
     ]
    }
   ],
   "source": [
    "for x in range(2, 30, 3):\n",
    "  print(x)"
   ]
  },
  {
   "cell_type": "code",
   "execution_count": 20,
   "id": "716ee051",
   "metadata": {},
   "outputs": [
    {
     "name": "stdout",
     "output_type": "stream",
     "text": [
      "0\n",
      "1\n",
      "2\n",
      "3\n",
      "4\n",
      "5\n",
      "6\n",
      "7\n",
      "8\n",
      "9\n",
      "10\n",
      "condition satisfied and skip on iteration\n",
      "12\n",
      "13\n",
      "14\n",
      "15\n",
      "16\n",
      "17\n",
      "18\n",
      "19\n",
      "20\n",
      "21\n",
      "22\n",
      "23\n",
      "24\n",
      "25\n",
      "26\n",
      "27\n",
      "28\n",
      "29\n"
     ]
    }
   ],
   "source": [
    "for n in range(30):\n",
    "    if n ==11:\n",
    "        print(\"condition satisfied and skip on iteration\")\n",
    "        #break\n",
    "        continue\n",
    "    print(n)\n",
    "    \n",
    "    "
   ]
  },
  {
   "cell_type": "code",
   "execution_count": 21,
   "id": "8f266eb4",
   "metadata": {},
   "outputs": [],
   "source": [
    "n = 1\n",
    "while n > 5:\n",
    "    print(n)"
   ]
  }
 ],
 "metadata": {
  "kernelspec": {
   "display_name": "Python 3",
   "language": "python",
   "name": "python3"
  },
  "language_info": {
   "codemirror_mode": {
    "name": "ipython",
    "version": 3
   },
   "file_extension": ".py",
   "mimetype": "text/x-python",
   "name": "python",
   "nbconvert_exporter": "python",
   "pygments_lexer": "ipython3",
   "version": "3.11.8"
  }
 },
 "nbformat": 4,
 "nbformat_minor": 5
}
