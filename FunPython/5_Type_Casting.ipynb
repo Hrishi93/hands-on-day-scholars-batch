{
 "cells": [
  {
   "cell_type": "code",
   "execution_count": null,
   "id": "e18f0b1e",
   "metadata": {},
   "outputs": [
    {
     "name": "stdout",
     "output_type": "stream",
     "text": [
      "<class 'int'>\n",
      "<class 'float'>\n"
     ]
    }
   ],
   "source": [
    "num1 = 10\n",
    "print(type(num1))\n",
    "\n",
    "#Type casting\n",
    "float(num1)\n",
    "print(type(float(num1)))"
   ]
  },
  {
   "cell_type": "code",
   "execution_count": 5,
   "id": "4ef515b5",
   "metadata": {},
   "outputs": [
    {
     "name": "stdout",
     "output_type": "stream",
     "text": [
      "<class 'str'>\n",
      "<class 'str'>\n",
      "<class 'int'>\n",
      "<class 'int'>\n",
      "<class 'float'>\n",
      "<class 'float'>\n"
     ]
    }
   ],
   "source": [
    "num1 = \"10\"\n",
    "num2 = \"20\"\n",
    "print(type(num1))\n",
    "print(type(num2))\n",
    "\n",
    "#Type casting into integer\n",
    "int(num1)\n",
    "int(num2)\n",
    "print(type(int(num1)))\n",
    "print(type(int(num2)))\n",
    "\n",
    "print(type(float(num1)))\n",
    "print(type(float(num2)))\n"
   ]
  },
  {
   "cell_type": "code",
   "execution_count": 10,
   "id": "37c037f6",
   "metadata": {},
   "outputs": [
    {
     "name": "stdout",
     "output_type": "stream",
     "text": [
      "<class 'int'>\n",
      "<class 'str'>\n",
      "<class 'str'>\n"
     ]
    }
   ],
   "source": [
    "num1 = 10\n",
    "num2 = \"Ram\"\n",
    "print(type(num1))\n",
    "print(type(str(num1)))\n",
    "\n",
    "print(type(num2))\n",
    "#print(type(int(num2)))"
   ]
  },
  {
   "cell_type": "code",
   "execution_count": 13,
   "id": "5951c470",
   "metadata": {},
   "outputs": [
    {
     "name": "stdout",
     "output_type": "stream",
     "text": [
      "Your BMI is: 22.5\n"
     ]
    }
   ],
   "source": [
    "weight =float(input(\"Enter your weight in kg: \"))\n",
    "height =float(input(\"Enter your height in meters: \"))\n",
    "\n",
    "#BMI Calculation\n",
    "bmi = weight / (height ** 2)\n",
    "print(\"Your BMI is:\", bmi)"
   ]
  }
 ],
 "metadata": {
  "kernelspec": {
   "display_name": "Python 3",
   "language": "python",
   "name": "python3"
  },
  "language_info": {
   "codemirror_mode": {
    "name": "ipython",
    "version": 3
   },
   "file_extension": ".py",
   "mimetype": "text/x-python",
   "name": "python",
   "nbconvert_exporter": "python",
   "pygments_lexer": "ipython3",
   "version": "3.11.8"
  }
 },
 "nbformat": 4,
 "nbformat_minor": 5
}
