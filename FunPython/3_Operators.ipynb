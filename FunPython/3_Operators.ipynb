{
 "cells": [
  {
   "cell_type": "code",
   "execution_count": 1,
   "id": "37d89808",
   "metadata": {},
   "outputs": [
    {
     "name": "stdout",
     "output_type": "stream",
     "text": [
      "Sum is:  300\n",
      "Difference is:  100\n",
      "Product is:  20000\n",
      "Quotient is:  2.0\n",
      "Modulus is:  0\n"
     ]
    }
   ],
   "source": [
    "num1 = 100\n",
    "num2 = 200\n",
    "\n",
    "#Arethmeantic Operations\n",
    "sum = num1 + num2\n",
    "print(\"Sum is: \", sum)\n",
    "diff = num2 - num1\n",
    "print(\"Difference is: \", diff)\n",
    "prod = num1 * num2\n",
    "print(\"Product is: \", prod)\n",
    "quotient = num2 / num1\n",
    "print(\"Quotient is: \", quotient)\n",
    "modulus = num2 % num1\n",
    "print(\"Modulus is: \", modulus)"
   ]
  },
  {
   "cell_type": "code",
   "execution_count": 7,
   "id": "8dd81996",
   "metadata": {},
   "outputs": [
    {
     "name": "stdout",
     "output_type": "stream",
     "text": [
      "500\n",
      "800\n",
      "600\n",
      "1200\n",
      "300.0\n",
      "0.0\n"
     ]
    }
   ],
   "source": [
    "num3 = 500  #assingmnet operator\n",
    "print(num3)\n",
    "\n",
    "num3 += 300\n",
    "print(num3)\n",
    "\n",
    "#num3 = -200\n",
    "num3 -= 200\n",
    "print(num3)\n",
    "\n",
    "num3 *= 2\n",
    "print(num3)\n",
    "\n",
    "num3 /= 4\n",
    "print(num3)\n",
    "\n",
    "num3 %= 3\n",
    "print(num3)"
   ]
  },
  {
   "cell_type": "code",
   "execution_count": 12,
   "id": "85aab34d",
   "metadata": {},
   "outputs": [
    {
     "name": "stdout",
     "output_type": "stream",
     "text": [
      "False\n",
      "True\n",
      "True\n",
      "False\n",
      "True\n",
      "False\n"
     ]
    }
   ],
   "source": [
    "num4 = 500\n",
    "num5 = 300\n",
    "\n",
    "print(num4 == num5) #false\n",
    "print(num4 != num5) #true\n",
    "print(num4 > num5)  #true\n",
    "print(num4 < num5)  #false\n",
    "print(num4 >= num5) #true\n",
    "print(num4 <= num5) #false"
   ]
  },
  {
   "cell_type": "code",
   "execution_count": null,
   "id": "de7eb83c",
   "metadata": {},
   "outputs": [
    {
     "name": "stdout",
     "output_type": "stream",
     "text": [
      "True\n",
      "False\n",
      "False\n",
      "False\n",
      "-----------------------------------------\n",
      "True\n",
      "True\n",
      "True\n",
      "False\n",
      "-----------------------------------------\n",
      "False\n",
      "True\n",
      "True\n",
      "False\n"
     ]
    }
   ],
   "source": [
    "#logical Operators\n",
    "n1=100\n",
    "n2=200\n",
    "\n",
    "# 1 AND 1 = 1\n",
    "# 1 and 0 = 0\n",
    "#0 and 1 = 0\n",
    "#0 and 0 = 0\n",
    "print((n1 < n2) and (n1 == 100))\n",
    "print((n1 < n2) and (n1 == 500))\n",
    "print((n1>n2) and (n2==200))\n",
    "print((n1>n2) and (n2==100))\n",
    "print(\"-----------------------------------------\")\n",
    "\n",
    "# 1 OR 1 = 1\n",
    "# 1 OR 0 = 1\n",
    "#0 OR 1 = 1\n",
    "#0 OR 0 = 0\n",
    "\n",
    "print((n1 < n2) or (n1 == 100))\n",
    "print((n1 < n2) or (n1 == 500))\n",
    "print((n1>n2) or (n2==200))\n",
    "print((n1>n2) or (n2==700))\n",
    "print(\"-----------------------------------------\")\n",
    "\n",
    "#1 NOT = 0\n",
    "#0 NOT = 1\n",
    "print(n1>n2)\n",
    "print(not(n1>n2))\n",
    "\n",
    "print(n1<n2) #true\n",
    "print(not(n1<n2))#false"
   ]
  },
  {
   "cell_type": "code",
   "execution_count": null,
   "id": "25e03e56",
   "metadata": {},
   "outputs": [
    {
     "name": "stdout",
     "output_type": "stream",
     "text": [
      "6\n",
      "14\n"
     ]
    }
   ],
   "source": [
    "# 8 4  2  1  0\n",
    "#0 = 0\n",
    "#1 = 1\n",
    "#2 = 10\n",
    "#3 = 11\n",
    "#4 = 100\n",
    "#5 = 101\n",
    "\n",
    "#bitwise Operators\n",
    "# & (AND) 5 = 101 , 3 = 011  => 001 = 1\n",
    "#1 and 1 = 1\n",
    "#0 and 1 = 0\n",
    "#1 and 0 = 0\n",
    "#001 = 1\n",
    "\n",
    "num1 = 6 # 110\n",
    "num2 = 7 # 111    #110 = 6  #111 = 7 \n",
    "print(num1 & num2)\n",
    "\n",
    "\n",
    "# | (OR) 5 = 101 , 3 = 011  => 111 = 7\n",
    "num3 = 10  #1010\n",
    "num4 = 12 #1100   #1110\n",
    "print(num3 | num4)\n",
    "\n",
    "# ^ (XOR) 5 = 101 , 3 = 011  => 110 = 6\n",
    "#<< (Left Shift)\n",
    "#>> (Right Shift)"
   ]
  },
  {
   "cell_type": "code",
   "execution_count": 35,
   "id": "48c0223b",
   "metadata": {},
   "outputs": [
    {
     "name": "stdout",
     "output_type": "stream",
     "text": [
      "True\n",
      "False\n"
     ]
    }
   ],
   "source": [
    "n1=10\n",
    "n2=10\n",
    "print(n1 is n2)\n",
    "print(n1 is not n2)"
   ]
  }
 ],
 "metadata": {
  "kernelspec": {
   "display_name": "Python 3",
   "language": "python",
   "name": "python3"
  },
  "language_info": {
   "codemirror_mode": {
    "name": "ipython",
    "version": 3
   },
   "file_extension": ".py",
   "mimetype": "text/x-python",
   "name": "python",
   "nbconvert_exporter": "python",
   "pygments_lexer": "ipython3",
   "version": "3.11.8"
  }
 },
 "nbformat": 4,
 "nbformat_minor": 5
}
