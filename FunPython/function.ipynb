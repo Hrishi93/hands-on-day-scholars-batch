{
 "cells": [
  {
   "cell_type": "code",
   "execution_count": null,
   "id": "b4a530b2",
   "metadata": {},
   "outputs": [
    {
     "name": "stdout",
     "output_type": "stream",
     "text": [
      "3\n"
     ]
    }
   ],
   "source": [
    "def hello():\n",
    "    print(\"Hello World\") #non return\n",
    "\n",
    "hello()"
   ]
  },
  {
   "cell_type": "code",
   "execution_count": null,
   "id": "ffcf4558",
   "metadata": {},
   "outputs": [
    {
     "data": {
      "text/plain": [
       "3"
      ]
     },
     "execution_count": 6,
     "metadata": {},
     "output_type": "execute_result"
    }
   ],
   "source": [
    "def hi():\n",
    "    return \"Hi World\" \n",
    "hi()"
   ]
  },
  {
   "cell_type": "code",
   "execution_count": null,
   "id": "fb6d5dcf",
   "metadata": {},
   "outputs": [
    {
     "ename": "TypeError",
     "evalue": "mul() takes 2 positional arguments but 3 were given",
     "output_type": "error",
     "traceback": [
      "\u001b[31m---------------------------------------------------------------------------\u001b[39m",
      "\u001b[31mTypeError\u001b[39m                                 Traceback (most recent call last)",
      "\u001b[36mCell\u001b[39m\u001b[36m \u001b[39m\u001b[32mIn[18]\u001b[39m\u001b[32m, line 13\u001b[39m\n\u001b[32m     10\u001b[39m     mul = num1*num2*num3\n\u001b[32m     11\u001b[39m     \u001b[38;5;28mprint\u001b[39m(mul)\n\u001b[32m---> \u001b[39m\u001b[32m13\u001b[39m \u001b[43mmul\u001b[49m\u001b[43m(\u001b[49m\u001b[32;43m2\u001b[39;49m\u001b[43m,\u001b[49m\u001b[43m \u001b[49m\u001b[32;43m2\u001b[39;49m\u001b[43m \u001b[49m\u001b[43m,\u001b[49m\u001b[43m \u001b[49m\u001b[32;43m4\u001b[39;49m\u001b[43m)\u001b[49m\n\u001b[32m     14\u001b[39m \u001b[38;5;66;03m#addition(10, 20)\u001b[39;00m\n\u001b[32m     15\u001b[39m \u001b[38;5;66;03m#addition(35, 45)\u001b[39;00m\n\u001b[32m     16\u001b[39m \u001b[38;5;66;03m#addition(45.5 , 46.5)\u001b[39;00m\n\u001b[32m     17\u001b[39m \u001b[38;5;66;03m#addition(\"Shyam\", \"ram\")\u001b[39;00m\n",
      "\u001b[31mTypeError\u001b[39m: mul() takes 2 positional arguments but 3 were given"
     ]
    }
   ],
   "source": [
    "#addtion of two number\n",
    "num4 = 50\n",
    "def addition(num1 , num2):\n",
    "    num3 = 40\n",
    "    sum = num1+num2+num3\n",
    "    print(sum)\n",
    "\n",
    "def mul(num1, num2):\n",
    "    num3 = 50\n",
    "    mul = num1*num2*num3\n",
    "    print(mul)\n",
    "\n",
    "mul(2, 2)\n",
    "#addition(10, 20)\n",
    "#addition(35, 45)\n",
    "#addition(45.5 , 46.5)\n",
    "#addition(\"Shyam\", \"ram\")"
   ]
  },
  {
   "cell_type": "code",
   "execution_count": 17,
   "id": "efc0a3a7",
   "metadata": {},
   "outputs": [
    {
     "name": "stdout",
     "output_type": "stream",
     "text": [
      "(1, 3, 4)\n"
     ]
    }
   ],
   "source": [
    "def numbers(*n):\n",
    "    print(n)\n",
    "\n",
    "numbers(1, 3 , 4)"
   ]
  }
 ],
 "metadata": {
  "kernelspec": {
   "display_name": "Python 3",
   "language": "python",
   "name": "python3"
  },
  "language_info": {
   "codemirror_mode": {
    "name": "ipython",
    "version": 3
   },
   "file_extension": ".py",
   "mimetype": "text/x-python",
   "name": "python",
   "nbconvert_exporter": "python",
   "pygments_lexer": "ipython3",
   "version": "3.11.8"
  }
 },
 "nbformat": 4,
 "nbformat_minor": 5
}
