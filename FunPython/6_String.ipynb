{
 "cells": [
  {
   "cell_type": "code",
   "execution_count": 9,
   "id": "4cd722d2",
   "metadata": {},
   "outputs": [
    {
     "name": "stdout",
     "output_type": "stream",
     "text": [
      "Hrishikesh\n",
      "10\n",
      "<class 'str'>\n",
      "H\n",
      "s\n",
      "h\n",
      "i\n",
      "h\n",
      "H\n"
     ]
    }
   ],
   "source": [
    "name = \"Hrishikesh\"\n",
    "#forward indexing = 0 to n-1\n",
    "#backward indexing = -n to -1\n",
    "print(name)\n",
    "print(len(name))\n",
    "print(type(name))\n",
    "\n",
    "#indexing\n",
    "print(name[0]) #H\n",
    "print(name[3]) #s\n",
    "print(name[9]) #h\n",
    "#print(name[10]) #Error\n",
    "print(name[-5])\n",
    "print(name[-1]) #h\n",
    "print(name[-10]) #H\n",
    "#print(name[-11]) #Error"
   ]
  },
  {
   "cell_type": "code",
   "execution_count": 18,
   "id": "bf4dd619",
   "metadata": {},
   "outputs": [
    {
     "name": "stdout",
     "output_type": "stream",
     "text": [
      "17\n",
      "Mahure\n",
      "Hrishi\n",
      "kesh \n"
     ]
    }
   ],
   "source": [
    "full_name = \"Hrishikesh Mahure\"\n",
    "print(len(full_name))\n",
    "\n",
    "print(full_name[11:]) #starting from index 11 to end\n",
    "print(full_name[:6])\n",
    "print(full_name[6:11])"
   ]
  },
  {
   "cell_type": "code",
   "execution_count": 25,
   "id": "b3909850",
   "metadata": {},
   "outputs": [
    {
     "name": "stdout",
     "output_type": "stream",
     "text": [
      "HrishikeshMahure\n",
      "Hrishikesh Mahure\n",
      "MHrishikeshaHrishikeshhHrishikeshuHrishikeshrHrishikeshe\n"
     ]
    }
   ],
   "source": [
    "first_name = \"Hrishikesh\"\n",
    "last_name = \"Mahure\"\n",
    "\n",
    "print(first_name + last_name) #concatenation\n",
    "print(first_name , last_name) #print with space\n",
    "\n",
    "print(first_name.join(last_name)) #join method"
   ]
  },
  {
   "cell_type": "code",
   "execution_count": 35,
   "id": "bf59110f",
   "metadata": {},
   "outputs": [
    {
     "name": "stdout",
     "output_type": "stream",
     "text": [
      "HriSHikesHmaHURE\n",
      "hrishikeshmahure\n",
      "HRISHIKESHMAHURE\n",
      "Hrishikeshmahure\n",
      "True\n",
      "True\n",
      "False\n"
     ]
    }
   ],
   "source": [
    "name = \"HriSHikesHmaHURE\"\n",
    "print(name)\n",
    "print(name.lower())\n",
    "print(name.upper())\n",
    "print(name.capitalize())\n",
    "print(name.isalpha()) \n",
    "print(name.isalnum())\n",
    "print(name.isdigit())"
   ]
  },
  {
   "cell_type": "code",
   "execution_count": 40,
   "id": "51d19f4b",
   "metadata": {},
   "outputs": [
    {
     "name": "stdout",
     "output_type": "stream",
     "text": [
      "14\n",
      "10\n",
      "Hrishikesh\n"
     ]
    }
   ],
   "source": [
    "name = \"Hrishikesh    \"\n",
    "print(len(name))\n",
    "trim_name = name.strip()\n",
    "print(len(trim_name))\n",
    "print(trim_name)"
   ]
  },
  {
   "cell_type": "code",
   "execution_count": 44,
   "id": "2c3d2087",
   "metadata": {},
   "outputs": [
    {
     "name": "stdout",
     "output_type": "stream",
     "text": [
      "<class 'str'>\n",
      "['I', 'am', 'learning', 'Python', 'programming', 'language']\n",
      "<class 'list'>\n",
      "['I', 'am', 'learning', 'Java', 'language']\n"
     ]
    }
   ],
   "source": [
    "#split\n",
    "sentence = \"I am learning Python programming language\"\n",
    "print(type(sentence))\n",
    "\n",
    "words = sentence.split()\n",
    "print(words)\n",
    "print(type(words)) \n",
    "\n",
    "sentance2 = \"I_am_learning_Java_language\"\n",
    "words2 = sentance2.split('_')\n",
    "print(words2)"
   ]
  },
  {
   "cell_type": "code",
   "execution_count": 54,
   "id": "fa959532",
   "metadata": {},
   "outputs": [
    {
     "name": "stdout",
     "output_type": "stream",
     "text": [
      "Prebheseee\n",
      "Pr@bh@s@@@\n"
     ]
    }
   ],
   "source": [
    "name = \"Prabhasaaa\"\n",
    "replace_name = name.replace('a', 'e')\n",
    "print(replace_name)\n",
    "\n",
    "#By Index\n",
    "index_replace_name = name.replace(name[2], '@')\n",
    "print(index_replace_name)\n"
   ]
  },
  {
   "cell_type": "code",
   "execution_count": 55,
   "id": "76f3df12",
   "metadata": {},
   "outputs": [
    {
     "name": "stdout",
     "output_type": "stream",
     "text": [
      "Edunet\n",
      "Foundation\n"
     ]
    }
   ],
   "source": [
    "full_name = \"Edunet Foundation\"\n",
    "first_name = full_name[:6]\n",
    "last_name = full_name[7:]\n",
    "print(first_name)\n",
    "print(last_name)"
   ]
  },
  {
   "cell_type": "code",
   "execution_count": 61,
   "id": "a96d5e24",
   "metadata": {},
   "outputs": [
    {
     "name": "stdout",
     "output_type": "stream",
     "text": [
      "['Python', 'programming', 'is', 'fun']\n",
      "y\n",
      "r\n",
      "s\n",
      "u\n"
     ]
    }
   ],
   "source": [
    "string = 'Python programming is fun'\n",
    "char = string.split()\n",
    "print(char)\n",
    "\n",
    "print(char[0][1])\n",
    "print(char[1][1])\n",
    "print(char[2][1])\n",
    "print(char[3][1])"
   ]
  },
  {
   "cell_type": "code",
   "execution_count": 64,
   "id": "f81b1da9",
   "metadata": {},
   "outputs": [
    {
     "name": "stdout",
     "output_type": "stream",
     "text": [
      "Data Science is amazing!\n"
     ]
    }
   ],
   "source": [
    "prase = \"Data Science is awesome!\"\n",
    "new_prase = prase.replace(\"awesome\", \"amazing\")\n",
    "print(new_prase)\n"
   ]
  }
 ],
 "metadata": {
  "kernelspec": {
   "display_name": "Python 3",
   "language": "python",
   "name": "python3"
  },
  "language_info": {
   "codemirror_mode": {
    "name": "ipython",
    "version": 3
   },
   "file_extension": ".py",
   "mimetype": "text/x-python",
   "name": "python",
   "nbconvert_exporter": "python",
   "pygments_lexer": "ipython3",
   "version": "3.11.8"
  }
 },
 "nbformat": 4,
 "nbformat_minor": 5
}
