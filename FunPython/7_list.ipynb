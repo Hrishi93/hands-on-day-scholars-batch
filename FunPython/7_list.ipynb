{
 "cells": [
  {
   "cell_type": "code",
   "execution_count": null,
   "id": "e8f10ffd",
   "metadata": {},
   "outputs": [
    {
     "name": "stdout",
     "output_type": "stream",
     "text": [
      "Shyam\n",
      "['Ram', 'Geeta', 'Seeta', 'Mohan']\n",
      "h\n",
      "Geeta\n",
      "['Ram', 10, True, 34.5, 'Kumar']\n",
      "['Ram', 10, True, 34.5, 'Kumar', 'Nagpur']\n",
      "['Ram', 'Raj', 10, True, 34.5, 'Kumar', 'Nagpur']\n"
     ]
    }
   ],
   "source": [
    "name = \"Shyam\"\n",
    "names = [\"Ram\" , \"Geeta\" , \"Seeta\" , \"Mohan\"]\n",
    "print(name)\n",
    "print(names)\n",
    "\n",
    "print(name[1])\n",
    "print(names[1])\n",
    "\n",
    "\n",
    "data = [\"Ram\" , 10 , True , 34.5 , \"Kumar\"]\n",
    "print(data)\n",
    "\n",
    "#Add the elements \n",
    "data.append(\"Nagpur\")\n",
    "print(data)\n",
    "\n",
    "#add element as per user requirments\n",
    "data.insert(1 , \"Raj\")\n",
    "print(data)"
   ]
  },
  {
   "cell_type": "code",
   "execution_count": null,
   "id": "b208f621",
   "metadata": {},
   "outputs": [
    {
     "name": "stdout",
     "output_type": "stream",
     "text": [
      "[10, 20, 30, 20, 40, 20, 50]\n",
      "[10, 20, 30, 40, 20, 50]\n"
     ]
    }
   ],
   "source": [
    "numbers = [10, 20 , 30, 20  ,40, 20 , 50]\n",
    "#remove elements\n",
    "#numbers.remove(20)\n",
    "print(numbers)\n",
    "\n",
    "#remove by index\n",
    "numbers.pop(3)\n",
    "print(numbers)\n",
    "\n",
    "#Sequence - index\n",
    "#allow duplicate\n",
    "#Muatable (Change the list)"
   ]
  },
  {
   "cell_type": "code",
   "execution_count": 18,
   "id": "ef65a356",
   "metadata": {},
   "outputs": [
    {
     "name": "stdout",
     "output_type": "stream",
     "text": [
      "(10, 20, 20, 20, 30, 40, 50)\n",
      "20\n"
     ]
    }
   ],
   "source": [
    "#tuple\n",
    "#Sequence - index\n",
    "#allow duplicate\n",
    "\n",
    "#not able to modify : unmutable\n",
    "\n",
    "numbers = (10 , 20, 20 , 20 , 30 , 40 ,50)\n",
    "print(numbers)\n",
    "print(numbers[2])\n",
    "\n",
    "#numbers.append(60)\n",
    "#numbers.insert(1, 70)\n",
    "#numbers.remove(30)\n",
    "\n"
   ]
  },
  {
   "cell_type": "code",
   "execution_count": null,
   "id": "94a60189",
   "metadata": {},
   "outputs": [
    {
     "name": "stdout",
     "output_type": "stream",
     "text": [
      "{'Banana', 'Mango', 'Orange', 'apple'}\n",
      "{'Mango', 'Orange', 'Gava', 'Banana', 'Graphes', 'apple'}\n",
      "{'Mango', 'Orange', 'Gava', 'Banana', 'Graphes'}\n"
     ]
    }
   ],
   "source": [
    "#set\n",
    "#does not follow the sequence\n",
    "#does allow duplicate elements\n",
    "#Allow to modified\n",
    "\n",
    "fruits = {\"Banana\" , \"apple\" , \"Mango\",\"apple\",\"Orange\"}\n",
    "print(fruits)\n",
    "#print(fruits[1])\n",
    "fruits.add(\"Graphes\")\n",
    "fruits.add(\"Gava\")\n",
    "print(fruits)\n",
    "\n",
    "fruits.remove(\"apple\")\n",
    "print(fruits)\n"
   ]
  },
  {
   "cell_type": "code",
   "execution_count": null,
   "id": "4d17a2d9",
   "metadata": {},
   "outputs": [
    {
     "name": "stdout",
     "output_type": "stream",
     "text": [
      "{'Company': 'Tata', 'Model': 'Nexon', 'colour': 'Neavy Blue', 'Typres': 'MRF'}\n",
      "Nexon\n"
     ]
    }
   ],
   "source": [
    "#In for Tables - Structure\n",
    "#name #age #city\n",
    "#Key: Value\n",
    "#name : Hrishikes\n",
    "#Model : Tata NExon\n",
    "#Price : 45000 #JSON \n",
    "\n",
    "\n",
    "car = {\n",
    "    \"Company\" : \"Tata\",\n",
    "\n",
    "    \"Model\": {\n",
    "        \"rooftype\":{\n",
    "            \"roop\": \"Panaromic\"\n",
    "        },\n",
    "        \"engine\":\"Autom\",\n",
    "    },\n",
    "\n",
    "    \"colour\":\"Neavy Blue\",\n",
    "    \"Typres\" : {\n",
    "            \"allow\": \"Yes\",\n",
    "            \"type\" :\"tubeless\"\n",
    "    }\n",
    "}\n",
    "\n",
    "print(car)\n",
    "print(car[\"Model\"])"
   ]
  },
  {
   "cell_type": "code",
   "execution_count": 1,
   "id": "e6a63646",
   "metadata": {},
   "outputs": [
    {
     "name": "stdout",
     "output_type": "stream",
     "text": [
      "['Eve', 'David', 'Charlie', 'Bob', 'Alice']\n"
     ]
    }
   ],
   "source": [
    "students = [\"Alice\", \"Bob\", \"Charlie\", \"David\", \"Eve\"]\n",
    "students.reverse()\n",
    "print(students)"
   ]
  },
  {
   "cell_type": "code",
   "execution_count": 3,
   "id": "9b1e69eb",
   "metadata": {},
   "outputs": [
    {
     "name": "stdout",
     "output_type": "stream",
     "text": [
      "['cherry', 'date', 'fig']\n"
     ]
    }
   ],
   "source": [
    "items = [\"apple\", \"banana\", \"cherry\", \"date\", \"fig\", \"grape\"]\n",
    "print(items[2:5])"
   ]
  },
  {
   "cell_type": "code",
   "execution_count": 7,
   "id": "194389da",
   "metadata": {},
   "outputs": [
    {
     "name": "stdout",
     "output_type": "stream",
     "text": [
      "36.714285714285715\n"
     ]
    }
   ],
   "source": [
    "ages = [23, 45, 18, 34, 60, 50, 27]\n",
    "\n",
    "#sum_ages= ages[0]+ages[1]+ages[2]+ages[3]\n",
    "sum_ages= sum(ages)\n",
    "average = sum_ages/len(ages)\n",
    "print(average)"
   ]
  },
  {
   "cell_type": "code",
   "execution_count": 10,
   "id": "70f2ece5",
   "metadata": {},
   "outputs": [
    {
     "name": "stdout",
     "output_type": "stream",
     "text": [
      "{'Bob', 'David'}\n",
      "{'Alice', 'Eve', 'Frank', 'Bob', 'Charlie', 'David'}\n"
     ]
    }
   ],
   "source": [
    "workshop1 = {\"Alice\", \"Bob\", \"Charlie\", \"David\"}\n",
    "workshop2 = {\"Eve\", \"Bob\", \"Frank\", \"David\"}\n",
    "\n",
    "\n",
    "commom_attendance = workshop1 & workshop2\n",
    "print(commom_attendance)\n",
    "\n",
    "#all names\n",
    "all_attendance = workshop1 | workshop2\n",
    "print(all_attendance)"
   ]
  }
 ],
 "metadata": {
  "kernelspec": {
   "display_name": "Python 3",
   "language": "python",
   "name": "python3"
  },
  "language_info": {
   "codemirror_mode": {
    "name": "ipython",
    "version": 3
   },
   "file_extension": ".py",
   "mimetype": "text/x-python",
   "name": "python",
   "nbconvert_exporter": "python",
   "pygments_lexer": "ipython3",
   "version": "3.11.8"
  }
 },
 "nbformat": 4,
 "nbformat_minor": 5
}
